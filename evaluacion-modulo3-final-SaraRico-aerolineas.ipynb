{
 "cells": [
  {
   "cell_type": "code",
   "execution_count": null,
   "metadata": {},
   "outputs": [],
   "source": [
    "# 1.1 - Exploración inicial de los datos (EDA)\n",
    "# Se identifican valores nulos, atípicos y datos faltantes en las columnas relevantes.\n",
    "\n",
    "import pandas as pd  # Manejo de datos\n",
    "import numpy as np  # Cálculos numéricos\n",
    "import matplotlib.pyplot as plt  # Gráficos básicos\n",
    "import seaborn as sns  # Visualización avanzada\n",
    "\n",
    "# Configuración para ver todas las columnas en la salida\n",
    "pd.set_option('display.max_columns', None)"
   ]
  },
  {
   "cell_type": "code",
   "execution_count": null,
   "metadata": {},
   "outputs": [],
   "source": [
    "## Fase 1: Exploración y Limpieza"
   ]
  },
  {
   "cell_type": "code",
   "execution_count": null,
   "metadata": {},
   "outputs": [],
   "source": [
    "# 1.2 - Carga de datos en DataFrames\n",
    "# Se cargan los datasets en dataframes para su análisis\n",
    "try:\n",
    "    df_flights = pd.read_csv(\"Customer Flight Activity.csv\")\n",
    "    df_customers = pd.read_csv(\"Customer Loyalty History.csv\")\n",
    "    print(\"Datos cargados correctamente.\")\n",
    "except FileNotFoundError:\n",
    "    print(\"Error: No se encontraron los archivos.\")\n",
    "\n",
    "# Verificamos las primeras filas de cada dataset\n",
    "print(\"\\nPrimeras filas de df_flights:\")\n",
    "display(df_flights.head())\n",
    "\n",
    "print(\"\\nPrimeras filas de df_customers:\")\n",
    "display(df_customers.head())\n",
    "\n",
    "# Dos archivos CSV: uno con la actividad de vuelos y otro con los datos de clientes."
   ]
  },
  {
   "cell_type": "code",
   "execution_count": null,
   "metadata": {},
   "outputs": [],
   "source": [
    "print(\"Número exacto de filas en df_flights:\", len(df_flights))\n",
    "print(\"Número exacto de filas en df_customers:\", len(df_customers))"
   ]
  },
  {
   "cell_type": "code",
   "execution_count": null,
   "metadata": {},
   "outputs": [],
   "source": [
    "# 1.3 - Exploración inicial y unión de los datasets\n",
    "# Se obtiene información general de cada dataset para identificar problemas potenciales\n",
    "\n",
    "def exploracion_general(df, nombre):\n",
    "    print(f\"\\n--- Exploración de {nombre} ---\")\n",
    "    print(\"\\nResumen estadístico de variables numéricas:\")\n",
    "    print(df.describe())\n",
    "    print(\"\\nTipos de datos por columna:\")\n",
    "    print(df.dtypes)\n",
    "    print(\"\\nCantidad de valores nulos:\")\n",
    "    print(df.isnull().sum())\n",
    "    print(\"\\nPorcentaje de valores nulos por columna:\")\n",
    "    print((df.isnull().sum() / len(df) * 100).round(2))\n",
    "    print(\"\\nCantidad de valores duplicados:\")\n",
    "    print(df.duplicated().sum())\n",
    "\n",
    "# Aplicamos la función a ambos datasets\n",
    "exploracion_general(df_flights, \"df_flights\")\n",
    "exploracion_general(df_customers, \"df_customers\")\n",
    "\n",
    "# Mensaje indicando que la exploración ha finalizado\n",
    "print(\" Exploración inicial completada.\")\n",
    "\n",
    "# Eliminar duplicados antes de unir los datasets\n",
    "df_flights.drop_duplicates(inplace=True)\n",
    "df_customers.drop_duplicates(inplace=True)\n",
    "print(\" Duplicados eliminados correctamente.\")\n",
    "\n",
    "# Unir los datasets de la forma más eficiente\n",
    "# Se combinan los datos de vuelos y clientes usando \"Loyalty Number\" como clave\n",
    "\n",
    "df_merged = df_flights.merge(df_customers, on=\"Loyalty Number\", how=\"left\")\n",
    "print(\"Datos combinados correctamente.\")\n"
   ]
  },
  {
   "cell_type": "code",
   "execution_count": null,
   "metadata": {},
   "outputs": [],
   "source": [
    "# 1.2.1 - Tratamiento de valores nulos\n",
    "# Se verifican y manejan los valores nulos en columnas clave\n",
    "\n",
    "print(\"\\n Valores nulos por columna antes del tratamiento:\")\n",
    "print(df_merged.isnull().sum()[df_merged.isnull().sum() > 0])  # Solo muestra columnas con nulos\n",
    "print(\"\\n Porcentaje de valores nulos por columna:\")\n",
    "print((df_merged.isnull().sum()[df_merged.isnull().sum() > 0] / len(df_merged) * 100).round(2))\n",
    "\n",
    "# Imputamos valores nulos en 'Salary' con la media, ya que la distribución parece normal\n",
    "df_merged[\"Salary\"].fillna(df_merged[\"Salary\"].mean(), inplace=True)\n",
    "\n",
    "# Eliminamos columnas con demasiados valores nulos que no aportan al análisis\n",
    "df_merged.drop(columns=[\"Cancellation Year\", \"Cancellation Month\"], inplace=True)\n",
    "\n",
    "print(\"\\n Valores nulos después del tratamiento:\")\n",
    "print(df_merged.isnull().sum()[df_merged.isnull().sum() > 0])  # Verificamos si aún quedan nulos\n",
    "print(\"Tratamiento de valores nulos completado.\")"
   ]
  },
  {
   "cell_type": "code",
   "execution_count": null,
   "metadata": {},
   "outputs": [],
   "source": [
    "# 1.2.2 - Verificación de consistencia de los datos\n",
    "# Se revisan valores únicos en variables categóricas y rangos en numéricas\n",
    "\n",
    "print(\"\\n Categorías en 'Education':\", df_merged[\"Education\"].unique())\n",
    "print(\"\\n Categorías en 'Marital Status':\", df_merged[\"Marital Status\"].unique())\n",
    "print(\"\\n Rango de salarios:\", df_merged[\"Salary\"].min(), \"-\", df_merged[\"Salary\"].max())\n",
    "print(\"\\n Rango de CLV:\", df_merged[\"CLV\"].min(), \"-\", df_merged[\"CLV\"].max())   # CLV (Customer Lifetime Value)\n",
    "\n",
    "# Buscamos valores atípicos en Salary (valores negativos)\n",
    "outliers_salary = df_merged[df_merged[\"Salary\"] < 0]\n",
    "print(f\"\\n Valores atípicos en Salary: {len(outliers_salary)} encontrados.\")\n",
    "\n",
    "# Si existen valores negativos en Salary, los convertimos a positivos\n",
    "if len(outliers_salary) > 0:\n",
    "    df_merged[\"Salary\"] = df_merged[\"Salary\"].abs()\n",
    "    print(\"Valores negativos en Salary corregidos.\")\n",
    "\n",
    "print(\"Verificación de consistencia de los datos completada.\")\n"
   ]
  },
  {
   "cell_type": "code",
   "execution_count": null,
   "metadata": {},
   "outputs": [],
   "source": [
    "# 1.2.3 - Ajuste de tipos de datos\n",
    "# Convertimos 'Enrollment Year' y 'Enrollment Month' en una fecha completa\n",
    "\n",
    "df_merged[\"Enrollment Date\"] = pd.to_datetime(\n",
    "    df_merged[\"Enrollment Year\"].astype(str) + \"-\" + df_merged[\"Enrollment Month\"].astype(str),\n",
    "    errors=\"coerce\"\n",
    ")\n",
    "\n",
    "print(\"\\n Ajuste de tipos de datos completado.\")\n",
    "print(df_merged.dtypes)  # Verificamos cambios"
   ]
  },
  {
   "cell_type": "code",
   "execution_count": null,
   "metadata": {},
   "outputs": [],
   "source": [
    "# 1.2.4 - Eliminación de columnas innecesarias\n",
    "# Eliminamos columnas que ya no son útiles después de la transformación\n",
    "\n",
    "df_merged.drop(columns=[\"Enrollment Year\", \"Enrollment Month\"], inplace=True)\n",
    "print(\"Columnas innecesarias eliminadas.\")"
   ]
  },
  {
   "cell_type": "code",
   "execution_count": null,
   "metadata": {},
   "outputs": [],
   "source": [
    "# 1.2.5 - Comprobación final de los datos limpios\n",
    "# Revisamos que todo esté en orden tras la limpieza\n",
    "\n",
    "print(\"\\n Resumen final de los datos limpios:\")\n",
    "print(df_merged.info())\n",
    "\n",
    "print(\"\\n Primeras filas de los datos limpios:\")\n",
    "print(df_merged.head())\n",
    "\n",
    "print(\"\\n Estadísticas finales tras la limpieza:\")\n",
    "print(df_merged.describe())\n",
    "\n",
    "print(\"Limpieza de datos completada con éxito.\")\n"
   ]
  },
  {
   "cell_type": "code",
   "execution_count": null,
   "metadata": {},
   "outputs": [],
   "source": [
    "## Fase 2: Visualización"
   ]
  },
  {
   "cell_type": "code",
   "execution_count": null,
   "metadata": {},
   "outputs": [],
   "source": [
    "# 2.1 - Distribución de la cantidad de vuelos reservados por mes durante cada año\n",
    "\n",
    "# Crear un DataFrame con la cantidad total de vuelos reservados por mes y año\n",
    "df_year_month = df_merged.groupby([\"Year\", \"Month\"])[\"Flights Booked\"].sum().reset_index()\n",
    "\n",
    "# Configuración del gráfico de líneas\n",
    "plt.figure(figsize=(9, 5))\n",
    "sns.lineplot(x=\"Month\", \n",
    "             y=\"Flights Booked\", \n",
    "             hue=\"Year\",  # Diferenciar por año\n",
    "             palette=[\"#87CEEB\", \"#4169E1\"], \n",
    "             data=df_year_month)\n",
    "\n",
    "# Personalización del gráfico\n",
    "plt.title(\"Vuelos reservados por mes en los años 2017 y 2018\", fontsize=14)\n",
    "plt.xticks(ticks=range(1, 13), labels=[\"Ene\", \"Feb\", \"Mar\", \"Abr\", \"May\", \"Jun\", \"Jul\", \"Ago\", \"Sep\", \"Oct\", \"Nov\", \"Dic\"], rotation=45)\n",
    "plt.xlabel(\"Mes\", fontsize=12)\n",
    "plt.ylabel(\"Vuelos Reservados\", fontsize=12)\n",
    "plt.grid(True)\n",
    "\n",
    "plt.show()\n",
    "\n",
    "# Configuración del gráfico de barras\n",
    "plt.figure(figsize=(9, 5))\n",
    "\n",
    "# Ordenar correctamente los datos para asegurar la alineación correcta\n",
    "df_year_month_sorted = df_year_month.sort_values(by=[\"Month\"])\n",
    "\n",
    "# Crear gráfico de barras asegurando que los meses aparecen en orden correcto\n",
    "sns.barplot(x=\"Month\", \n",
    "            y=\"Flights Booked\", \n",
    "            hue=\"Year\",  \n",
    "            data=df_year_month_sorted, \n",
    "            palette=[\"#87CEEB\", \"#4169E1\"],  \n",
    "            estimator=sum)\n",
    "\n",
    "# Personalización del gráfico\n",
    "plt.title(\"Vuelos reservados por mes en los años 2017 y 2018\", fontsize=14)\n",
    "plt.xticks(ticks=range(12), labels=[\"Ene\", \"Feb\", \"Mar\", \"Abr\", \"May\", \"Jun\", \"Jul\", \"Ago\", \"Sep\", \"Oct\", \"Nov\", \"Dic\"], rotation=55)\n",
    "plt.xlabel(\"Mes\", fontsize=12)\n",
    "plt.ylabel(\"Vuelos Reservados\", fontsize=12)\n",
    "plt.grid(axis=\"y\", linestyle=\"--\", alpha=0.7)\n",
    "\n",
    "plt.show()"
   ]
  },
  {
   "cell_type": "markdown",
   "metadata": {},
   "source": [
    "📊  Justificación del uso de gráficos:\n",
    "\t•\tLínea → Se utiliza para visualizar la tendencia de vuelos reservados a lo largo del tiempo, ya que permite identificar aumentos y caídas en la demanda de forma clara.\n",
    "\t•\tBarras → Se usa para comparar de manera más intuitiva la cantidad de vuelos por mes en cada año, ayudando a ver diferencias absolutas.\n",
    "\n",
    "🔍 \tTendencia estacional:\n",
    "\t•\tHay un pico en los meses de mayo a julio, lo que indica que estos meses tienen una mayor demanda de vuelos.\n",
    "\t•\tTras este pico, la cantidad de vuelos disminuye en los meses siguientes, especialmente en septiembre y octubre.\n",
    "\tComparación entre años:\n",
    "\t•\t2018 muestra un incremento general en la cantidad de vuelos reservados en comparación con 2017.\n",
    "\t•\tSin embargo, la tendencia sigue un patrón similar en ambos años, lo que sugiere una estacionalidad en la demanda."
   ]
  },
  {
   "cell_type": "code",
   "execution_count": null,
   "metadata": {},
   "outputs": [],
   "source": [
    "# 2.2 - Relación entre la distancia de los vuelos y los puntos acumulados\n",
    "\n",
    "plt.figure(figsize=(9, 5))\n",
    "\n",
    "# Crear scatterplot\n",
    "sns.scatterplot(x=\"Distance\", \n",
    "                y=\"Points Accumulated\", \n",
    "                data=df_merged, \n",
    "                alpha=0.5,  # Transparencia para visualizar mejor la densidad\n",
    "                color=\"mediumturquoise\")  \n",
    "\n",
    "# Personalización del gráfico\n",
    "plt.title(\"Relación entre la distancia de los vuelos y los puntos acumulados\", fontsize=14)\n",
    "plt.xlabel(\"Distancia del vuelo (km)\", fontsize=12)\n",
    "plt.ylabel(\"Puntos acumulados\", fontsize=12)\n",
    "plt.grid(True, linestyle=\"--\", alpha=0.7)\n",
    "\n",
    "plt.show()"
   ]
  },
  {
   "cell_type": "markdown",
   "metadata": {},
   "source": [
    "📊  Se utiliza un scatterplot porque queremos analizar la relación entre dos variables numéricas: la distancia recorrida y los puntos acumulados. Este tipo de gráfico nos permite visualizar si hay una tendencia clara entre ambas variables y detectar posibles valores atípicos.\n",
    "\n",
    "🔍 Se observa que a mayor distancia recorrida, mayor cantidad de puntos acumulados. Esto indica que los puntos se otorgan en función de la distancia del vuelo, lo que tiene sentido en un programa de fidelización de aerolíneas.\n"
   ]
  },
  {
   "cell_type": "code",
   "execution_count": null,
   "metadata": {},
   "outputs": [],
   "source": [
    "# 2.3 - Distribución de clientes por provincia\n",
    "\n",
    "# Eliminamos duplicados para contar clientes únicos\n",
    "df_unique_clients = df_merged.drop_duplicates(subset=\"Loyalty Number\")\n",
    "\n",
    "# Contamos la cantidad de clientes únicos por provincia\n",
    "clientes_por_provincia = df_unique_clients[\"Province\"].value_counts()\n",
    "\n",
    "# Visualización de la distribución de clientes por provincia\n",
    "plt.figure(figsize=(11, 5))\n",
    "sns.barplot(x=clientes_por_provincia.index, \n",
    "            y=clientes_por_provincia.values, \n",
    "            hue=clientes_por_provincia.index,  # Añadimos hue para evitar el warning\n",
    "            palette=\"viridis\")  # Se usa una paleta de colores con suficientes tonos\n",
    "\n",
    "# Ajustes visuales\n",
    "plt.title(\"Cantidad de clientes únicos por provincia\", fontsize=14)\n",
    "plt.xlabel(\"Provincia\", fontsize=12, labelpad=10)  # Ajuste del padding del xlabel\n",
    "plt.ylabel(\"Número de clientes\", fontsize=12)\n",
    "\n",
    "# Rotamos las etiquetas y las alineamos hacia la izquierda\n",
    "plt.xticks(rotation=45, ha=\"right\")  # Alinear etiquetas a la derecha para que se vean más a la izquierda\n",
    "plt.grid(axis=\"y\", linestyle=\"--\", alpha=0.7)\n",
    "\n",
    "plt.show()"
   ]
  },
  {
   "cell_type": "markdown",
   "metadata": {},
   "source": [
    "📊 \t•\tPermite comparar de manera clara y ordenada el número de clientes en cada provincia.\n",
    "\t•\tEs ideal para variables categóricas, como provincias, en lugar de gráficos de dispersión o circulares que no serían tan efectivos en este caso.\n",
    "\n",
    "🔍 \t•\tAlgunas provincias tienen una mayor cantidad de clientes en comparación con otras.\n",
    "\t•\tSe puede ver que la mayoría de clientes son de Ontario, mientras que la provincia con menor cantidad de clientes es Prince Edward Island.\n",
    "\t•\tEsto podría estar influenciado por factores como densidad poblacional, accesibilidad a aeropuertos y nivel económico.\n",
    "\t•\tLas provincias con menos clientes podrían indicar menor interés o acceso al programa de fidelización."
   ]
  },
  {
   "cell_type": "code",
   "execution_count": null,
   "metadata": {},
   "outputs": [],
   "source": [
    "# 2.4 - Comparación del salario promedio por nivel educativo\n",
    "\n",
    "# Eliminamos duplicados para no contar a la misma persona varias veces\n",
    "df_unique_clients = df_merged.drop_duplicates(subset=\"Loyalty Number\")\n",
    "\n",
    "# Calculamos el salario promedio por nivel educativo\n",
    "salario_por_educacion = df_unique_clients.groupby(\"Education\")[\"Salary\"].mean().sort_values()\n",
    "\n",
    "# Visualización de la comparación de salario promedio por nivel educativo\n",
    "plt.figure(figsize=(8, 5))\n",
    "sns.barplot(x=salario_por_educacion.index, \n",
    "            y=salario_por_educacion.values, \n",
    "            hue=salario_por_educacion.index,  \n",
    "            palette=\"Greens\")  # Paleta predefinida que se adapta a cualquier cantidad de categorías\n",
    "\n",
    "# Ajustes visuales\n",
    "plt.title(\"Salario promedio por nivel educativo\", fontsize=14)\n",
    "plt.xlabel(\"Nivel Educativo\", fontsize=12)\n",
    "plt.ylabel(\"Salario Promedio\", fontsize=12)\n",
    "plt.xticks(rotation=65)  # Rotamos etiquetas para mejor visibilidad\n",
    "plt.grid(axis=\"y\", linestyle=\"--\", alpha=0.7)\n",
    "plt.show()"
   ]
  },
  {
   "cell_type": "markdown",
   "metadata": {},
   "source": [
    "📊  •   barplot porque es ideal para comparar valores categóricos.\n",
    "\t•\tSeaborn barplot permite visualizar fácilmente cómo varía el salario promedio según la educación.\n",
    "\t•\tOrdenamos los niveles educativos de menor a mayor salario para facilitar la interpretación.\n",
    "\t•\tSe usó la paleta “Greens” para mantener la coherencia de colores con los gráficos anteriores.\n",
    "\n",
    "🔍  •\tSe observa que, a medida que aumenta el nivel educativo, también aumenta el salario promedio de los clientes.\n",
    "\t•\tExisten diferencias salariales significativas entre distintos niveles de educación.\n",
    "\t•\tEsto sugiere que la educación juega un papel clave en la capacidad adquisitiva de los clientes, lo que puede influir en sus decisiones de viaje."
   ]
  },
  {
   "cell_type": "code",
   "execution_count": null,
   "metadata": {},
   "outputs": [],
   "source": [
    "# 2.5 - Porcentaje de clientes por tipo de tarjeta de fidelidad\n",
    "\n",
    "# Eliminamos duplicados para contar cada cliente solo una vez\n",
    "df_unique_clients = df_merged.drop_duplicates(subset=\"Loyalty Number\")\n",
    "\n",
    "# Calculamos el porcentaje de clientes por tipo de tarjeta\n",
    "clientes_por_tarjeta = df_unique_clients[\"Loyalty Card\"].value_counts(normalize=True) * 100\n",
    "\n",
    "# Definimos colores personalizados\n",
    "colores = [\"lightseagreen\", \"mediumseagreen\", \"teal\", \"turquoise\"]\n",
    "\n",
    "# Creación del gráfico Pie\n",
    "plt.figure(figsize=(5, 5))\n",
    "plt.pie(clientes_por_tarjeta, labels=clientes_por_tarjeta.index, autopct=\"%1.1f%%\", colors=colores, startangle=90, wedgeprops={\"edgecolor\": \"black\", \"linewidth\": 1})\n",
    "\n",
    "# Ajustes visuales\n",
    "plt.title(\"Distribución de clientes por tipo de tarjeta de fidelidad\", fontsize=14)\n",
    "plt.show()"
   ]
  },
  {
   "cell_type": "markdown",
   "metadata": {},
   "source": [
    "📊  •   Este gráfico permite comparar claramente qué tipos de tarjeta son más populares entre los clientes.\n",
    "    •   Al usar porcentajes en lugar de valores absolutos, podemos evaluar la distribución relativa de los clientes.\n",
    "\n",
    "🔍 \t•\tLa mayoría de los clientes usan la tarjeta Star, lo que sugiere que es la opción más accesible o con mejores beneficios.\n",
    "\t•\tAurora y Nova tienen una proporción menor de clientes, lo que podría indicar que están dirigidas a segmentos más específicos o con requisitos diferentes."
   ]
  },
  {
   "cell_type": "code",
   "execution_count": null,
   "metadata": {},
   "outputs": [],
   "source": [
    "# Verificar cuántos tipos de tarjetas existen\n",
    "print(df_unique_clients[\"Loyalty Card\"].value_counts())"
   ]
  },
  {
   "cell_type": "code",
   "execution_count": null,
   "metadata": {},
   "outputs": [],
   "source": [
    "# 2.6 - Distribución de clientes según estado civil y género\n",
    "\n",
    "# Eliminamos duplicados para no contar a la misma persona varias veces\n",
    "df_unique_clients = df_merged.drop_duplicates(subset=\"Loyalty Number\")\n",
    "\n",
    "# Visualización de la distribución de clientes según estado civil y género\n",
    "plt.figure(figsize=(8, 5))\n",
    "sns.countplot(x=\"Marital Status\", hue=\"Gender\", data=df_unique_clients, palette=\"crest\")\n",
    "\n",
    "# Ajustes visuales\n",
    "plt.title(\"Distribución de clientes según estado civil y género\", fontsize=14)\n",
    "plt.xlabel(\"Estado Civil\", fontsize=12)\n",
    "plt.ylabel(\"Número de Clientes\", fontsize=12)\n",
    "plt.xticks(rotation=0)  # Mantener etiquetas rectas para este tipo de gráfico\n",
    "plt.legend(title=\"Género\")\n",
    "plt.grid(axis=\"y\", linestyle=\"--\", alpha=0.6)  # Grid en el eje Y para facilitar la lectura\n",
    "\n",
    "plt.show()"
   ]
  },
  {
   "cell_type": "markdown",
   "metadata": {},
   "source": [
    "📊  •  Este gráfico de barras (countplot) muestra la distribución de clientes según su estado civil, diferenciando entre hombres y mujeres con hue=\"Gender\".\n",
    "\n",
    "🔍 \t•\tLas personas casadas son el grupo más numeroso, seguidas por los solteros.\n",
    "\t•\tEn la categoría de Divorciado, la distribución por género es casi equitativa."
   ]
  },
  {
   "cell_type": "code",
   "execution_count": null,
   "metadata": {},
   "outputs": [],
   "source": [
    "# Contar la cantidad de clientes por estado civil y género\n",
    "estado_civil_genero = df_unique_clients.groupby([\"Marital Status\", \"Gender\"])[\"Loyalty Number\"].count()\n",
    "\n",
    "# Mostrar los datos específicamente para \"Married\"\n",
    "print(estado_civil_genero.loc[\"Married\"])"
   ]
  },
  {
   "cell_type": "code",
   "execution_count": null,
   "metadata": {},
   "outputs": [],
   "source": [
    "print(df_unique_clients[\"Marital Status\"].value_counts())"
   ]
  },
  {
   "cell_type": "code",
   "execution_count": null,
   "metadata": {},
   "outputs": [],
   "source": [
    "# Creación del DataFrame final limpio\n",
    "df_final = df_merged.dropna().drop_duplicates(subset=\"Loyalty Number\")\n",
    "\n",
    "# Verificación de que está limpio\n",
    "print(\"\\nResumen del DataFrame final limpio:\")\n",
    "print(df_final.info())\n",
    "\n",
    "print(\"\\nValores nulos en el DataFrame final:\")\n",
    "print(df_final.isnull().sum().sum())  # Debe ser 0\n",
    "\n",
    "print(\"\\nCantidad de clientes únicos en el DataFrame final:\")\n",
    "print(len(df_final))\n",
    "\n",
    "# Confirmación de que el DataFrame está listo\n",
    "print(\"DataFrame final limpio y listo para la fase 3.\")"
   ]
  },
  {
   "cell_type": "code",
   "execution_count": null,
   "metadata": {},
   "outputs": [],
   "source": [
    "## Fase 3: Evaluación de Diferencias en Reservas de Vuelos por Nivel Educativo"
   ]
  },
  {
   "cell_type": "code",
   "execution_count": null,
   "metadata": {},
   "outputs": [
    {
     "data": {
      "text/html": [
       "<div>\n",
       "<style scoped>\n",
       "    .dataframe tbody tr th:only-of-type {\n",
       "        vertical-align: middle;\n",
       "    }\n",
       "\n",
       "    .dataframe tbody tr th {\n",
       "        vertical-align: top;\n",
       "    }\n",
       "\n",
       "    .dataframe thead th {\n",
       "        text-align: right;\n",
       "    }\n",
       "</style>\n",
       "<table border=\"1\" class=\"dataframe\">\n",
       "  <thead>\n",
       "    <tr style=\"text-align: right;\">\n",
       "      <th></th>\n",
       "      <th>Flights Booked</th>\n",
       "      <th>Education</th>\n",
       "    </tr>\n",
       "  </thead>\n",
       "  <tbody>\n",
       "    <tr>\n",
       "      <th>0</th>\n",
       "      <td>3</td>\n",
       "      <td>Bachelor</td>\n",
       "    </tr>\n",
       "    <tr>\n",
       "      <th>1</th>\n",
       "      <td>10</td>\n",
       "      <td>College</td>\n",
       "    </tr>\n",
       "    <tr>\n",
       "      <th>2</th>\n",
       "      <td>6</td>\n",
       "      <td>College</td>\n",
       "    </tr>\n",
       "    <tr>\n",
       "      <th>3</th>\n",
       "      <td>0</td>\n",
       "      <td>Bachelor</td>\n",
       "    </tr>\n",
       "    <tr>\n",
       "      <th>4</th>\n",
       "      <td>0</td>\n",
       "      <td>Bachelor</td>\n",
       "    </tr>\n",
       "  </tbody>\n",
       "</table>\n",
       "</div>"
      ],
      "text/plain": [
       "   Flights Booked Education\n",
       "0               3  Bachelor\n",
       "1              10   College\n",
       "2               6   College\n",
       "3               0  Bachelor\n",
       "4               0  Bachelor"
      ]
     },
     "execution_count": 325,
     "metadata": {},
     "output_type": "execute_result"
    }
   ],
   "source": [
    "# 3.1 - Preparación de Datos - \tObjetivo: Filtrar únicamente las columnas necesarias para el análisis (‘Flights Booked’ y ‘Education’).\n",
    "\n",
    "# Filtramos el DataFrame con solo las columnas necesarias\n",
    "df_education_flights = df_final[[\"Flights Booked\", \"Education\"]].copy()\n",
    "\n",
    "# Eliminamos posibles valores nulos en estas columnas\n",
    "df_education_flights.dropna(inplace=True)\n",
    "\n",
    "# Mostramos las primeras filas para verificar los datos\n",
    "df_education_flights.head()"
   ]
  },
  {
   "cell_type": "code",
   "execution_count": null,
   "metadata": {},
   "outputs": [],
   "source": [
    "# 3.2 - Análisis Descriptivo - Obtener estadísticas básicas (media, desviación estándar, etc.) para cada nivel educativo.\n",
    "\n",
    "# Agrupamos por nivel educativo y calculamos estadísticas descriptivas\n",
    "stats_education = df_education_flights.groupby(\"Education\")[\"Flights Booked\"].agg([\"mean\", \"std\", \"count\"]).round(2)\n",
    "\n",
    "#por concluir-------------"
   ]
  }
 ],
 "metadata": {
  "kernelspec": {
   "display_name": "Python 3",
   "language": "python",
   "name": "python3"
  },
  "language_info": {
   "codemirror_mode": {
    "name": "ipython",
    "version": 3
   },
   "file_extension": ".py",
   "mimetype": "text/x-python",
   "name": "python",
   "nbconvert_exporter": "python",
   "pygments_lexer": "ipython3",
   "version": "3.9.6"
  }
 },
 "nbformat": 4,
 "nbformat_minor": 2
}
